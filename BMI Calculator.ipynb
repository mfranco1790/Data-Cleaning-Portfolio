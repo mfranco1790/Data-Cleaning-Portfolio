{
 "cells": [
  {
   "cell_type": "markdown",
   "id": "2372a1f6-8f91-4cc3-a21c-eb2b56e1dd16",
   "metadata": {},
   "source": [
    "# BMI Calculator"
   ]
  },
  {
   "cell_type": "code",
   "execution_count": null,
   "id": "66559da0-2252-4ca4-9242-be8a864874ab",
   "metadata": {},
   "outputs": [],
   "source": [
    "# https://www.calculatorsoup.com/calculators/health/bmi-calculator.php\n",
    "#"
   ]
  },
  {
   "cell_type": "code",
   "execution_count": 2,
   "id": "4f598f2a-e83a-4c1b-9636-bf9eed81407b",
   "metadata": {},
   "outputs": [],
   "source": [
    "# Calculate BMI with weight in kilograms and height in meters: In metric units: BMI = weight (kg) ÷ height2 (meters)"
   ]
  },
  {
   "cell_type": "code",
   "execution_count": null,
   "id": "c471924a-15d1-4502-aec8-22e99006f7d7",
   "metadata": {},
   "outputs": [],
   "source": [
    "name = input('Enter your name: ')\n",
    "\n",
    "Weight = float(input('Enter your weight in kilos: '))\n",
    "\n",
    "Height = float(input('Enter your height in centimeters: '))\n",
    "Height = Height/100\n",
    "\n",
    "BMI = (Weight/Height**2)\n",
    "\n",
    "print(round(BMI,2))\n",
    "\n",
    "\n",
    "if BMI>0:\n",
    "    if BMI <= 18.4:\n",
    "        print(name + ', you are underweight')\n",
    "    elif BMI <= 24.9:\n",
    "        print(name + ', you are normal weight')\n",
    "    elif BMI <= 39.9:\n",
    "        print(name + ', you are overweight')\n",
    "    elif BMI >= 40.0:\n",
    "        print(name + ', you are obese')\n",
    "    else:\n",
    "        print('Enter a valid inputs')\n",
    "    "
   ]
  },
  {
   "cell_type": "code",
   "execution_count": null,
   "id": "a8009a44-b4b0-4139-ad1a-d3069f734382",
   "metadata": {},
   "outputs": [],
   "source": []
  },
  {
   "cell_type": "code",
   "execution_count": null,
   "id": "d7bdfb40-419b-4806-beaa-3130a195297d",
   "metadata": {},
   "outputs": [],
   "source": []
  },
  {
   "cell_type": "code",
   "execution_count": null,
   "id": "8e1977e0-d349-49b4-8f8d-b8c52a6345f3",
   "metadata": {},
   "outputs": [],
   "source": [
    "# Information used to create the If statement\n",
    "≤ 18.4\tUnderweight\n",
    "18.5 - 24.9\tNormal\n",
    "25.0 - 39.9\tOverweight\n",
    "≥ 40.0\tObese"
   ]
  },
  {
   "cell_type": "code",
   "execution_count": null,
   "id": "55097caf-19c0-402c-a73b-f796b56ea318",
   "metadata": {},
   "outputs": [],
   "source": [
    "if BMI>0:\n",
    "    if BMI <= 18.4:\n",
    "        print(name + ', you are underweight')\n",
    "    elif BMI <= 24.9:\n",
    "        print(name + ', you are normal weight')\n",
    "    elif BMI <= 39.9:\n",
    "        print(name + ', you are overweight')\n",
    "    elif BMI >= 40.0:\n",
    "        print(name + ', you are obese')\n",
    "    else:\n",
    "        print('Enter a valid inputs')\n",
    "    "
   ]
  },
  {
   "cell_type": "code",
   "execution_count": null,
   "id": "7618e1fd-824a-4296-9caa-21515934c2c7",
   "metadata": {},
   "outputs": [],
   "source": []
  },
  {
   "cell_type": "code",
   "execution_count": null,
   "id": "98b7b4eb-c62a-431c-be11-139ca20b1bab",
   "metadata": {},
   "outputs": [],
   "source": []
  },
  {
   "cell_type": "code",
   "execution_count": null,
   "id": "c856a0ba-3440-4cef-bfc8-dd3fe915a7ce",
   "metadata": {},
   "outputs": [],
   "source": []
  },
  {
   "cell_type": "code",
   "execution_count": null,
   "id": "ace9b399-a00b-45d1-a25a-f65206f6c4db",
   "metadata": {},
   "outputs": [],
   "source": []
  }
 ],
 "metadata": {
  "kernelspec": {
   "display_name": "Python 3 (ipykernel)",
   "language": "python",
   "name": "python3"
  },
  "language_info": {
   "codemirror_mode": {
    "name": "ipython",
    "version": 3
   },
   "file_extension": ".py",
   "mimetype": "text/x-python",
   "name": "python",
   "nbconvert_exporter": "python",
   "pygments_lexer": "ipython3",
   "version": "3.12.4"
  }
 },
 "nbformat": 4,
 "nbformat_minor": 5
}
